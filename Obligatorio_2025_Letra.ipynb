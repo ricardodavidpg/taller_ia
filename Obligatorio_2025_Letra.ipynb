{
 "cells": [
  {
   "cell_type": "markdown",
   "metadata": {},
   "source": [
    "# Obligatorio - Taller Agentes Inteligentes 2025\n",
    "\n",
    "En este trabajo obligatorio aplicaremos los conceptos vistos en el curso para diseñar, implementar y evaluar agentes capaces de aprender a jugar al clásico **Breakout** de Atari, utilizando el entorno provisto por Farama Gymnasium ([https://ale.farama.org/environments/breakout/](https://ale.farama.org/environments/breakout/)). \n",
    "\n",
    "<p align=\"center\">\n",
    "  <img src=\"https://media.tenor.com/oMxHgRrISJsAAAAM/atari-deep-learning.gif\" alt=\"Atari Deep Learning\"/>\n",
    "</p>\n",
    "\n",
    "\n",
    "El ejercicio se enmarca en un contexto de aprendizaje práctico, donde trabajaremos con las interfaces estándar de Gymnasium para:\n",
    "\n",
    "1. **Profundizar en algoritmos de valor**: implementaremos y compararemos dos variantes de Q-Learning basadas en redes neuronales profundas:\n",
    "   * **Deep Q Learning (DQN)**\n",
    "   * **Double Deep Q Learning (DDQN)**\n",
    "2. **Evaluar rendimiento y estabilidad**: registraremos las recompensas obtenidas durante el entrenamiento de cada agente y analizaremos su comportamiento mediante gráficas comparativas.\n",
    "3. **Demostrar resultados de forma visual**: capturaremos vídeos que muestren a cada agente “resolviendo” el entorno, entendido como la habilidad de romper al menos cinco bloques en una partida.\n",
    "\n",
    "Debido a las limitaciones de tiempo y cómputo propias de un entorno de curso, no se espera entrenar modelos durante más de diez horas por agente. Por ello, será fundamental:\n",
    "\n",
    "* Integrar puntos de **checkpoint** para guardar periódicamente los pesos de la red.\n",
    "* Seguir en los puntos 2 y 3 la arquitectura y técnicas originales propuestas en los papers seminales de DQN y DDQN, dejando la experimentación adicional para el punto extra.\n",
    "* Flexibilizar la notebook de guía: pueden reorganizarla o dividirla en múltiples archivos según su conveniencia.\n"
   ]
  },
  {
   "cell_type": "markdown",
   "metadata": {},
   "source": [
    "## Objetivos y tareas\n",
    "\n",
    "1. **Completar la implementación**\n",
    "   * Rellenar el código faltante en la notebook y en los módulos auxiliares para que los agentes puedan interactuar con el entorno de Breakout.\n",
    "2. **Entrenar agentes**\n",
    "   * Ajustar y entrenar un **DQN** que alcance la condición de “resolver” (romper ≥ 10 bloques).\n",
    "   * Ajustar y entrenar un **DDQN** con la misma meta de desempeño.\n",
    "3. **Visualizar y analizar resultados**\n",
    "   * Generar **gráficas comparativas** de las recompensas obtenidas por ambos agentes en el mismo entorno (una gráfica por ambiente). Además se sugiere gráficas que muestren el valor de la función de valor Q para cada agente.\n",
    "   * Extraer **al menos dos conclusiones** por gráfica, comentando diferencias en convergencia, estabilidad y comportamiento exploratorio.\n",
    "4. **Registro de demostraciones**\n",
    "   * Grabar y entregar un **video demostrativo** de cada agente resolviendo el entorno.\n",
    "5. **Experimentación**\n",
    "   * Probar otras arquitecturas, técnicas de mejora o módulos de procesamiento de entradas más avanzados, documentando brevemente su impacto/"
   ]
  },
  {
   "cell_type": "markdown",
   "metadata": {},
   "source": [
    "## Criterios de evaluación\n",
    "\n",
    "| Criterio                                  | Descripción                                                  | Peso |\n",
    "| ----------------------------------------- | ------------------------------------------------------------ | ---- |\n",
    "| **Implementación y rendimiento**          | DQN y DDQN completados; cada agente rompe ≥ 10 bloques       | 40%  |\n",
    "| **Estructura y narrativa de la notebook** | Secciones claras, explicación de decisiones, “historia”      | 20%  |\n",
    "| **Análisis de resultados**                | Gráficas comparativas; ≥ 2 conclusiones por gráfico          | 20%  |\n",
    "| **Presentación visual**                   | Vídeos demostrativos de cada agente                          | 10%  |\n",
    "| **Experimentación**                       | Experimentación adicional documentada y analizada brevemente | 10%  |"
   ]
  },
  {
   "cell_type": "markdown",
   "metadata": {},
   "source": [
    "## Bibliografía\n",
    "\n",
    "* **Mnih, V.**, Kavukcuoglu, K., Silver, D., Rusu, A. A., Veness, J., Bellemare, M. G., … Hassabis, D. (2013). *Playing Atari with Deep Reinforcement Learning*. [arXiv:1312.5602](https://arxiv.org/abs/1312.5602)\n",
    "* **van Hasselt, H.**, Guez, A., & Silver, D. (2015). *Deep Reinforcement Learning with Double Q-learning*. [arXiv:1509.06461](https://arxiv.org/abs/1509.06461)\n",
    "* **Sutton, R. S.**, & Barto, A. G. (2018). *Reinforcement Learning: An Introduction* (2nd ed.), capítulo 16.5: “Human-level Video Game Play”. MIT Press."
   ]
  },
  {
   "cell_type": "markdown",
   "metadata": {},
   "source": [
    "## Setup"
   ]
  },
  {
   "cell_type": "markdown",
   "metadata": {
    "id": "gc6t9etEt9I2",
    "pycharm": {
     "name": "#%%\n"
    }
   },
   "source": [
    "**Imports**"
   ]
  },
  {
   "cell_type": "code",
   "execution_count": 1,
   "metadata": {
    "id": "cwHCw6PMt9I3",
    "pycharm": {
     "name": "#%%\n"
    }
   },
   "outputs": [],
   "source": [
    "import os\n",
    "import torch\n",
    "import numpy as np\n",
    "import random\n",
    "import numpy as np\n",
    "import torch.nn as nn\n",
    "import torch.nn.functional as F\n",
    "from torchinfo import summary\n",
    "import gymnasium\n",
    "import ale_py\n",
    "from utils import make_env, show_observation_stack\n",
    "from IPython.display import Video"
   ]
  },
  {
   "cell_type": "markdown",
   "metadata": {},
   "source": [
    "ALE (Atari Learning Environment) es un entorno de aprendizaje para videojuegos de Atari. En este caso, utilizaremos el entorno de Breakout. Es necesario entender que se separa el entorno de los roms de Atari, que son los juegos en sí. El entorno de ALE permite interactuar con los juegos de Atari a través de una API estándar, facilitando la implementación de algoritmos de aprendizaje por refuerzo.\n",
    "\n",
    "Debemos instalar los roms por separado, para ello primero tenemos que saber donde están los roms de Atari. "
   ]
  },
  {
   "cell_type": "code",
   "execution_count": 2,
   "metadata": {},
   "outputs": [
    {
     "name": "stdout",
     "output_type": "stream",
     "text": [
      "c:\\Users\\clean\\miniconda3\\envs\\obl_taller_ia\\Lib\\site-packages\\ale_py\\roms\n"
     ]
    }
   ],
   "source": [
    "gymnasium.register_envs(ale_py) # registramos todos los entornos de ale_py\n",
    "ruta_init = ale_py.roms.__file__ # debemos saber donde se encuentra la carpeta roms\n",
    "ALE_ROMS_PATH = os.path.dirname(ruta_init)\n",
    "print(ALE_ROMS_PATH)"
   ]
  },
  {
   "cell_type": "markdown",
   "metadata": {},
   "source": [
    "Podemos usar los siguientes comando para instalar los roms y colocalos en la carpeta correcta."
   ]
  },
  {
   "cell_type": "code",
   "execution_count": 3,
   "metadata": {},
   "outputs": [],
   "source": [
    "#!pip install \"autorom[accept-rom-license]\"\n",
    "#!AutoROM --accept-license --install-dir {ALE_ROMS_PATH}\n",
    "#Lo hice por fuera por que en la colab no funcionaba"
   ]
  },
  {
   "cell_type": "markdown",
   "metadata": {},
   "source": [
    "Fijamos la semilla para que los resultados sean reproducibles"
   ]
  },
  {
   "cell_type": "code",
   "execution_count": 4,
   "metadata": {},
   "outputs": [],
   "source": [
    "SEED = 23\n",
    "\n",
    "torch.manual_seed(SEED)\n",
    "torch.backends.cudnn.deterministic=True # https://discuss.pytorch.org/t/what-is-the-differenc-between-cudnn-deterministic-and-cudnn-benchmark/38054\n",
    "torch.backends.cudnn.benchmark=True # https://discuss.pytorch.org/t/what-does-torch-backends-cudnn-benchmark-do/5936/4\n",
    "np.random.seed(SEED)\n",
    "random.seed(SEED)"
   ]
  },
  {
   "cell_type": "markdown",
   "metadata": {},
   "source": [
    "Vemos que dispositivo tenemos, si es GPU, MPS o CPU. **El uso de GPU es altamente recomendable** para acelerar el entrenamiento de los modelos. "
   ]
  },
  {
   "cell_type": "code",
   "execution_count": 5,
   "metadata": {},
   "outputs": [
    {
     "name": "stdout",
     "output_type": "stream",
     "text": [
      "Device: cuda\n"
     ]
    }
   ],
   "source": [
    "# Algunas constantes\n",
    "\n",
    "# definimos el dispositivo que vamos a usar\n",
    "DEVICE = \"cpu\"  # por defecto, usamos la CPU\n",
    "if torch.cuda.is_available():\n",
    "    DEVICE = \"cuda\"  # si hay GPU, usamos la GPU\n",
    "elif torch.backends.mps.is_available():\n",
    "    DEVICE = \"mps\"  # si no hay GPU, pero hay MPS, usamos MPS\n",
    "\n",
    "print(f\"Device: {DEVICE}\")"
   ]
  },
  {
   "cell_type": "markdown",
   "metadata": {},
   "source": [
    "## Preprocesando Atari\n",
    "\n",
    "Para reproducir fielmente el enfoque de Mnih et al. (2013) y reducir la carga computacional al trabajar con imágenes de Atari (210 × 160 píxeles, 128 colores), aplicamos el siguiente preprocesado φ a las últimas **4** frames del entorno:\n",
    "\n",
    "1. **Conversión a escala de grises**\n",
    "   Eliminamos la información de color (GRAYSCALE = True), pues la luminosidad es suficiente para capturar la dinámica de juego y reduce drásticamente la dimensionalidad de la entrada.\n",
    "\n",
    "2. **Down-sampling y recorte**\n",
    "   * Redimensionamos la imagen original a 110 × 84 píxeles, manteniendo la proporción horizontal.\n",
    "   * Recortamos un área central de 84 × 84 píxeles que contiene la “zona de juego”, descartando bordes innecesarios.\n",
    "     Este paso (SCREEN_SIZE = 84) no solo concentra la atención del modelo en la región relevante, sino que también garantiza un tamaño cuadrado compatible con las implementaciones de convoluciones en GPU.\n",
    "\n",
    "3. **Saltos temporales (frame skipping)**\n",
    "   Procesamos cada 4 frames (SKIP_FRAMES = 4), repitiendo la misma acción durante esos pasos. Esto reduce la redundancia temporal, acelera el entrenamiento y mantiene la coherencia del movimiento de la paleta y la bola.\n",
    "\n",
    "4. **Apilamiento de frames**\n",
    "   Finalmente, acumulamos las últimas 4 imágenes preprocesadas (NUM_STACKED_FRAMES = 4) en un único tensor de entrada. Así el agente puede inferir la velocidad y dirección de los elementos móviles a partir de la diferencia entre frames.\n",
    "\n",
    "Este esquema de preprocesado es fundamental para disminuir el espacio de entrada, acelerar las convoluciones y proporcionar al Q-net una representación compacta y rica en información dinámica, tal como se describe en el algoritmo 1 del paper original .\n",
    "\n",
    "> Se recomienda ver el método `make_env` en el archivo `utils.py` para entender cómo se implementa este preprocesado. "
   ]
  },
  {
   "cell_type": "code",
   "execution_count": 6,
   "metadata": {},
   "outputs": [],
   "source": [
    "GRAY_SCALE = True # si True, convertimos la imagen a escala de grises\n",
    "SCREEN_SIZE = 84 # redimensionamos a SCREEN_SIZExSCREEN_SIZE\n",
    "NUM_STACKED_FRAMES = 4 # apilamos NUM_STACKED_FRAMES frames\n",
    "SKIP_FRAMES = 4 # saltamos SKIP_FRAMES frames (haciendo la misma acción)"
   ]
  },
  {
   "cell_type": "code",
   "execution_count": 7,
   "metadata": {
    "colab": {
     "base_uri": "https://localhost:8080/"
    },
    "id": "loVxQPrwt9I5",
    "outputId": "18b7ed97-88dd-4b1e-a2cc-b2636686bfc7"
   },
   "outputs": [
    {
     "data": {
      "image/png": "[encoded data removed]",
      "text/plain": [
       "<Figure size 640x480 with 1 Axes>"
      ]
     },
     "metadata": {},
     "output_type": "display_data"
    },
    {
     "data": {
      "image/png": "[encoded data removed]",
      "text/plain": [
       "<Figure size 640x480 with 1 Axes>"
      ]
     },
     "metadata": {},
     "output_type": "display_data"
    },
    {
     "data": {
      "image/png": "[encoded data removed]",
      "text/plain": [
       "<Figure size 640x480 with 1 Axes>"
      ]
     },
     "metadata": {},
     "output_type": "display_data"
    },
    {
     "data": {
      "image/png": "[encoded data removed]",
      "text/plain": [
       "<Figure size 640x480 with 1 Axes>"
      ]
     },
     "metadata": {},
     "output_type": "display_data"
    },
    {
     "name": "stdout",
     "output_type": "stream",
     "text": [
      "Episode 1 finished with total reward: 3\n"
     ]
    }
   ],
   "source": [
    "# https://ale.farama.org/environments/breakout/\n",
    "ENV_NAME = \"ALE/Breakout-v5\" \n",
    "\n",
    "env = make_env(ENV_NAME,\n",
    "                video_folder='./videos/random',\n",
    "                name_prefix=\"breakout\",\n",
    "                record_every=None,\n",
    "                grayscale=GRAY_SCALE,\n",
    "                screen_size=SCREEN_SIZE,\n",
    "                stack_frames=NUM_STACKED_FRAMES,\n",
    "                skip_frames=SKIP_FRAMES\n",
    "                )\n",
    "\n",
    "for episode_num in range(1):\n",
    "    obs, info = env.reset()\n",
    "    show_observation_stack(obs)\n",
    "    reward_total = 0\n",
    "    episode_over = False\n",
    "    while not episode_over:\n",
    "        action = env.action_space.sample()  # seleccionamos una acción aleatoria\n",
    "        obs, reward, terminated, truncated, info = env.step(action)\n",
    "        reward_total += reward\n",
    "        episode_over = terminated or truncated\n",
    "    print(f\"Episode {episode_num + 1} finished with total reward: {reward_total}\")\n",
    "\n",
    "env.close()"
   ]
  },
  {
   "cell_type": "markdown",
   "metadata": {},
   "source": [
    "Además, podemos mostrar los videos capturados por el entorno de Atari de la siguiente manera:"
   ]
  },
  {
   "cell_type": "code",
   "execution_count": 8,
   "metadata": {},
   "outputs": [
    {
     "data": {
      "text/html": [
       "<video controls  width=\"600\" >\n",
       " <source src=\"data:None;base64,./videos/random/breakout-episode-0.mp4\" type=\"None\">\n",
       " Your browser does not support the video tag.\n",
       " </video>"
      ],
      "text/plain": [
       "<IPython.core.display.Video object>"
      ]
     },
     "execution_count": 8,
     "metadata": {},
     "output_type": "execute_result"
    }
   ],
   "source": [
    "# Ruta al archivo de vídeo en tu sistema de ficheros\n",
    "video_path = \"./videos/random/breakout-episode-0.mp4\"\n",
    "\n",
    "# Muestra el vídeo\n",
    "Video(video_path, embed=True, width=600)"
   ]
  },
  {
   "cell_type": "markdown",
   "metadata": {
    "id": "2bYVG_TKt9I5"
   },
   "source": [
    "# Exploración del entorno"
   ]
  },
  {
   "cell_type": "code",
   "execution_count": 9,
   "metadata": {},
   "outputs": [
    {
     "name": "stdout",
     "output_type": "stream",
     "text": [
      "Actions shape: Discrete(4)\n",
      "Observation shape: (4, 84, 84)\n",
      "(4, 84, 84),\n",
      " 0,\n",
      " False,\n",
      " {'lives': 5, 'episode_frame_number': 13, 'frame_number': 1092}\n"
     ]
    }
   ],
   "source": [
    "print(\"Actions shape:\",env.action_space)\n",
    "print(\"Observation shape:\",env.observation_space.shape)\n",
    "env.reset()\n",
    "next_state, reward, terminated, truncated, info = env.step(action=0)\n",
    "\n",
    "print(f\"{next_state.shape},\\n {reward},\\n {terminated},\\n {info}\")\n",
    "\n",
    "env.close()"
   ]
  },
  {
   "cell_type": "markdown",
   "metadata": {},
   "source": [
    "### Acciones\n",
    "..."
   ]
  },
  {
   "cell_type": "markdown",
   "metadata": {},
   "source": [
    "### Observaciones\n",
    "..."
   ]
  },
  {
   "cell_type": "markdown",
   "metadata": {
    "id": "XIHpwiaat9I7"
   },
   "source": [
    "# Deep Q Learning\n",
    "\n",
    "Deep Q Learning extiende el algoritmo clásico de Q-learning al emplear una **red neuronal profunda** como aproximador de la función de valor $Q(s,a)$. Inspirado en Mnih et al. (2013), este método utiliza una **red convolucional** para procesar directamente las imágenes del entorno Atari, un **replay buffer** para romper la correlación temporal de las muestras. La política sigue un esquema **ε-greedy**, balanceando exploración y explotación, y se entrena minimizando el error de la ecuación de Bellman sobre lotes de transiciones muestreadas de manera aleatoria.\n",
    "\n",
    "<p align=\"center\">\n",
    "  <img src=\"https://www.researchgate.net/profile/Faris-Mismar/publication/327045314/figure/fig4/AS:819677282455553@1572437701142/Structure-of-the-neural-network-used-for-the-Deep-Q-learning-Network-implementation-with.png\" alt=\"DQN\"/>\n",
    "</p>\n",
    "\n",
    "Fuente: [arXiv:1312.5602](https://arxiv.org/abs/1312.5602)"
   ]
  },
  {
   "cell_type": "markdown",
   "metadata": {
    "id": "ajTGajUftSgY",
    "pycharm": {
     "name": "#%% md\n"
    }
   },
   "source": [
    "## Memoria\n",
    "\n",
    "El algoritmo de Deep Q Learning presentado en el paper utiliza una memoria (llamada Replay Memory) para almacenar transiciones pasadas. Tuplas que contienen un estado base, la accion tomada, la recompensa obtenida, una bandera que indica si el siguiente estado es final o no; y el estado siguiente.\n",
    "\n",
    "Esta memoria es circular, es decir, tiene un límite maximo de elementos y una vez esté llena comienza a reemplazar los elementos más viejos.\n",
    "\n",
    "Vamos a necesitar crear una función **sample** que obtiene una mustra aleatoria de elementos de la memoria.  Esto puede ser una lista de Transiciones o listas separadas (pero alineadas) de los elementos que las componen.\n",
    "\n",
    "\n",
    "> Para implementar esta funcionalidad se debe modificar el archivo **replay_memory.py**"
   ]
  },
  {
   "cell_type": "code",
   "execution_count": 10,
   "metadata": {
    "id": "scPtpbz4tTAh",
    "outputId": "0890f48a-e673-4416-bd69-7dcf2730ba64",
    "pycharm": {
     "name": "#%%\n"
    }
   },
   "outputs": [
    {
     "name": "stdout",
     "output_type": "stream",
     "text": [
      "Memory size: 3\n",
      "\n",
      "Sate shape: torch.Size([4, 84, 84])\n",
      "Action shape: torch.Size([1])\n",
      "Reward shape: torch.Size([1])\n",
      "Done shape: torch.Size([1])\n",
      "Next state shape: torch.Size([4, 84, 84])\n",
      "Memory sample:\n",
      "Sample 0: Transition(state=tensor([[[0.0078, 0.0078, 0.0078,  ..., 0.0078, 0.0078, 0.0078],\n",
      "         [0.0078, 0.0078, 0.0078,  ..., 0.0078, 0.0078, 0.0078],\n",
      "         [0.0078, 0.0078, 0.0078,  ..., 0.0078, 0.0078, 0.0078],\n",
      "         ...,\n",
      "         [0.0078, 0.0078, 0.0078,  ..., 0.0078, 0.0078, 0.0078],\n",
      "         [0.0078, 0.0078, 0.0078,  ..., 0.0078, 0.0078, 0.0078],\n",
      "         [0.0078, 0.0078, 0.0078,  ..., 0.0078, 0.0078, 0.0078]],\n",
      "\n",
      "        [[0.0078, 0.0078, 0.0078,  ..., 0.0078, 0.0078, 0.0078],\n",
      "         [0.0078, 0.0078, 0.0078,  ..., 0.0078, 0.0078, 0.0078],\n",
      "         [0.0078, 0.0078, 0.0078,  ..., 0.0078, 0.0078, 0.0078],\n",
      "         ...,\n",
      "         [0.0078, 0.0078, 0.0078,  ..., 0.0078, 0.0078, 0.0078],\n",
      "         [0.0078, 0.0078, 0.0078,  ..., 0.0078, 0.0078, 0.0078],\n",
      "         [0.0078, 0.0078, 0.0078,  ..., 0.0078, 0.0078, 0.0078]],\n",
      "\n",
      "        [[0.0078, 0.0078, 0.0078,  ..., 0.0078, 0.0078, 0.0078],\n",
      "         [0.0078, 0.0078, 0.0078,  ..., 0.0078, 0.0078, 0.0078],\n",
      "         [0.0078, 0.0078, 0.0078,  ..., 0.0078, 0.0078, 0.0078],\n",
      "         ...,\n",
      "         [0.0078, 0.0078, 0.0078,  ..., 0.0078, 0.0078, 0.0078],\n",
      "         [0.0078, 0.0078, 0.0078,  ..., 0.0078, 0.0078, 0.0078],\n",
      "         [0.0078, 0.0078, 0.0078,  ..., 0.0078, 0.0078, 0.0078]],\n",
      "\n",
      "        [[0.0078, 0.0078, 0.0078,  ..., 0.0078, 0.0078, 0.0078],\n",
      "         [0.0078, 0.0078, 0.0078,  ..., 0.0078, 0.0078, 0.0078],\n",
      "         [0.0078, 0.0078, 0.0078,  ..., 0.0078, 0.0078, 0.0078],\n",
      "         ...,\n",
      "         [0.0078, 0.0078, 0.0078,  ..., 0.0078, 0.0078, 0.0078],\n",
      "         [0.0078, 0.0078, 0.0078,  ..., 0.0078, 0.0078, 0.0078],\n",
      "         [0.0078, 0.0078, 0.0078,  ..., 0.0078, 0.0078, 0.0078]]]), action=tensor([1]), reward=tensor([10.]), done=tensor([0.]), next_state=tensor([[[0.0078, 0.0078, 0.0078,  ..., 0.0078, 0.0078, 0.0078],\n",
      "         [0.0078, 0.0078, 0.0078,  ..., 0.0078, 0.0078, 0.0078],\n",
      "         [0.0078, 0.0078, 0.0078,  ..., 0.0078, 0.0078, 0.0078],\n",
      "         ...,\n",
      "         [0.0078, 0.0078, 0.0078,  ..., 0.0078, 0.0078, 0.0078],\n",
      "         [0.0078, 0.0078, 0.0078,  ..., 0.0078, 0.0078, 0.0078],\n",
      "         [0.0078, 0.0078, 0.0078,  ..., 0.0078, 0.0078, 0.0078]],\n",
      "\n",
      "        [[0.0078, 0.0078, 0.0078,  ..., 0.0078, 0.0078, 0.0078],\n",
      "         [0.0078, 0.0078, 0.0078,  ..., 0.0078, 0.0078, 0.0078],\n",
      "         [0.0078, 0.0078, 0.0078,  ..., 0.0078, 0.0078, 0.0078],\n",
      "         ...,\n",
      "         [0.0078, 0.0078, 0.0078,  ..., 0.0078, 0.0078, 0.0078],\n",
      "         [0.0078, 0.0078, 0.0078,  ..., 0.0078, 0.0078, 0.0078],\n",
      "         [0.0078, 0.0078, 0.0078,  ..., 0.0078, 0.0078, 0.0078]],\n",
      "\n",
      "        [[0.0078, 0.0078, 0.0078,  ..., 0.0078, 0.0078, 0.0078],\n",
      "         [0.0078, 0.0078, 0.0078,  ..., 0.0078, 0.0078, 0.0078],\n",
      "         [0.0078, 0.0078, 0.0078,  ..., 0.0078, 0.0078, 0.0078],\n",
      "         ...,\n",
      "         [0.0078, 0.0078, 0.0078,  ..., 0.0078, 0.0078, 0.0078],\n",
      "         [0.0078, 0.0078, 0.0078,  ..., 0.0078, 0.0078, 0.0078],\n",
      "         [0.0078, 0.0078, 0.0078,  ..., 0.0078, 0.0078, 0.0078]],\n",
      "\n",
      "        [[0.0078, 0.0078, 0.0078,  ..., 0.0078, 0.0078, 0.0078],\n",
      "         [0.0078, 0.0078, 0.0078,  ..., 0.0078, 0.0078, 0.0078],\n",
      "         [0.0078, 0.0078, 0.0078,  ..., 0.0078, 0.0078, 0.0078],\n",
      "         ...,\n",
      "         [0.0078, 0.0078, 0.0078,  ..., 0.0078, 0.0078, 0.0078],\n",
      "         [0.0078, 0.0078, 0.0078,  ..., 0.0078, 0.0078, 0.0078],\n",
      "         [0.0078, 0.0078, 0.0078,  ..., 0.0078, 0.0078, 0.0078]]]))\n",
      "Sample 1: Transition(state=tensor([[[0.0157, 0.0157, 0.0157,  ..., 0.0157, 0.0157, 0.0157],\n",
      "         [0.0157, 0.0157, 0.0157,  ..., 0.0157, 0.0157, 0.0157],\n",
      "         [0.0157, 0.0157, 0.0157,  ..., 0.0157, 0.0157, 0.0157],\n",
      "         ...,\n",
      "         [0.0157, 0.0157, 0.0157,  ..., 0.0157, 0.0157, 0.0157],\n",
      "         [0.0157, 0.0157, 0.0157,  ..., 0.0157, 0.0157, 0.0157],\n",
      "         [0.0157, 0.0157, 0.0157,  ..., 0.0157, 0.0157, 0.0157]],\n",
      "\n",
      "        [[0.0157, 0.0157, 0.0157,  ..., 0.0157, 0.0157, 0.0157],\n",
      "         [0.0157, 0.0157, 0.0157,  ..., 0.0157, 0.0157, 0.0157],\n",
      "         [0.0157, 0.0157, 0.0157,  ..., 0.0157, 0.0157, 0.0157],\n",
      "         ...,\n",
      "         [0.0157, 0.0157, 0.0157,  ..., 0.0157, 0.0157, 0.0157],\n",
      "         [0.0157, 0.0157, 0.0157,  ..., 0.0157, 0.0157, 0.0157],\n",
      "         [0.0157, 0.0157, 0.0157,  ..., 0.0157, 0.0157, 0.0157]],\n",
      "\n",
      "        [[0.0157, 0.0157, 0.0157,  ..., 0.0157, 0.0157, 0.0157],\n",
      "         [0.0157, 0.0157, 0.0157,  ..., 0.0157, 0.0157, 0.0157],\n",
      "         [0.0157, 0.0157, 0.0157,  ..., 0.0157, 0.0157, 0.0157],\n",
      "         ...,\n",
      "         [0.0157, 0.0157, 0.0157,  ..., 0.0157, 0.0157, 0.0157],\n",
      "         [0.0157, 0.0157, 0.0157,  ..., 0.0157, 0.0157, 0.0157],\n",
      "         [0.0157, 0.0157, 0.0157,  ..., 0.0157, 0.0157, 0.0157]],\n",
      "\n",
      "        [[0.0157, 0.0157, 0.0157,  ..., 0.0157, 0.0157, 0.0157],\n",
      "         [0.0157, 0.0157, 0.0157,  ..., 0.0157, 0.0157, 0.0157],\n",
      "         [0.0157, 0.0157, 0.0157,  ..., 0.0157, 0.0157, 0.0157],\n",
      "         ...,\n",
      "         [0.0157, 0.0157, 0.0157,  ..., 0.0157, 0.0157, 0.0157],\n",
      "         [0.0157, 0.0157, 0.0157,  ..., 0.0157, 0.0157, 0.0157],\n",
      "         [0.0157, 0.0157, 0.0157,  ..., 0.0157, 0.0157, 0.0157]]]), action=tensor([3]), reward=tensor([10.]), done=tensor([1.]), next_state=tensor([[[0.0157, 0.0157, 0.0157,  ..., 0.0157, 0.0157, 0.0157],\n",
      "         [0.0157, 0.0157, 0.0157,  ..., 0.0157, 0.0157, 0.0157],\n",
      "         [0.0157, 0.0157, 0.0157,  ..., 0.0157, 0.0157, 0.0157],\n",
      "         ...,\n",
      "         [0.0157, 0.0157, 0.0157,  ..., 0.0157, 0.0157, 0.0157],\n",
      "         [0.0157, 0.0157, 0.0157,  ..., 0.0157, 0.0157, 0.0157],\n",
      "         [0.0157, 0.0157, 0.0157,  ..., 0.0157, 0.0157, 0.0157]],\n",
      "\n",
      "        [[0.0157, 0.0157, 0.0157,  ..., 0.0157, 0.0157, 0.0157],\n",
      "         [0.0157, 0.0157, 0.0157,  ..., 0.0157, 0.0157, 0.0157],\n",
      "         [0.0157, 0.0157, 0.0157,  ..., 0.0157, 0.0157, 0.0157],\n",
      "         ...,\n",
      "         [0.0157, 0.0157, 0.0157,  ..., 0.0157, 0.0157, 0.0157],\n",
      "         [0.0157, 0.0157, 0.0157,  ..., 0.0157, 0.0157, 0.0157],\n",
      "         [0.0157, 0.0157, 0.0157,  ..., 0.0157, 0.0157, 0.0157]],\n",
      "\n",
      "        [[0.0157, 0.0157, 0.0157,  ..., 0.0157, 0.0157, 0.0157],\n",
      "         [0.0157, 0.0157, 0.0157,  ..., 0.0157, 0.0157, 0.0157],\n",
      "         [0.0157, 0.0157, 0.0157,  ..., 0.0157, 0.0157, 0.0157],\n",
      "         ...,\n",
      "         [0.0157, 0.0157, 0.0157,  ..., 0.0157, 0.0157, 0.0157],\n",
      "         [0.0157, 0.0157, 0.0157,  ..., 0.0157, 0.0157, 0.0157],\n",
      "         [0.0157, 0.0157, 0.0157,  ..., 0.0157, 0.0157, 0.0157]],\n",
      "\n",
      "        [[0.0157, 0.0157, 0.0157,  ..., 0.0157, 0.0157, 0.0157],\n",
      "         [0.0157, 0.0157, 0.0157,  ..., 0.0157, 0.0157, 0.0157],\n",
      "         [0.0157, 0.0157, 0.0157,  ..., 0.0157, 0.0157, 0.0157],\n",
      "         ...,\n",
      "         [0.0157, 0.0157, 0.0157,  ..., 0.0157, 0.0157, 0.0157],\n",
      "         [0.0157, 0.0157, 0.0157,  ..., 0.0157, 0.0157, 0.0157],\n",
      "         [0.0157, 0.0157, 0.0157,  ..., 0.0157, 0.0157, 0.0157]]]))\n",
      "Sample 2: Transition(state=tensor([[[0.0118, 0.0118, 0.0118,  ..., 0.0118, 0.0118, 0.0118],\n",
      "         [0.0118, 0.0118, 0.0118,  ..., 0.0118, 0.0118, 0.0118],\n",
      "         [0.0118, 0.0118, 0.0118,  ..., 0.0118, 0.0118, 0.0118],\n",
      "         ...,\n",
      "         [0.0118, 0.0118, 0.0118,  ..., 0.0118, 0.0118, 0.0118],\n",
      "         [0.0118, 0.0118, 0.0118,  ..., 0.0118, 0.0118, 0.0118],\n",
      "         [0.0118, 0.0118, 0.0118,  ..., 0.0118, 0.0118, 0.0118]],\n",
      "\n",
      "        [[0.0118, 0.0118, 0.0118,  ..., 0.0118, 0.0118, 0.0118],\n",
      "         [0.0118, 0.0118, 0.0118,  ..., 0.0118, 0.0118, 0.0118],\n",
      "         [0.0118, 0.0118, 0.0118,  ..., 0.0118, 0.0118, 0.0118],\n",
      "         ...,\n",
      "         [0.0118, 0.0118, 0.0118,  ..., 0.0118, 0.0118, 0.0118],\n",
      "         [0.0118, 0.0118, 0.0118,  ..., 0.0118, 0.0118, 0.0118],\n",
      "         [0.0118, 0.0118, 0.0118,  ..., 0.0118, 0.0118, 0.0118]],\n",
      "\n",
      "        [[0.0118, 0.0118, 0.0118,  ..., 0.0118, 0.0118, 0.0118],\n",
      "         [0.0118, 0.0118, 0.0118,  ..., 0.0118, 0.0118, 0.0118],\n",
      "         [0.0118, 0.0118, 0.0118,  ..., 0.0118, 0.0118, 0.0118],\n",
      "         ...,\n",
      "         [0.0118, 0.0118, 0.0118,  ..., 0.0118, 0.0118, 0.0118],\n",
      "         [0.0118, 0.0118, 0.0118,  ..., 0.0118, 0.0118, 0.0118],\n",
      "         [0.0118, 0.0118, 0.0118,  ..., 0.0118, 0.0118, 0.0118]],\n",
      "\n",
      "        [[0.0118, 0.0118, 0.0118,  ..., 0.0118, 0.0118, 0.0118],\n",
      "         [0.0118, 0.0118, 0.0118,  ..., 0.0118, 0.0118, 0.0118],\n",
      "         [0.0118, 0.0118, 0.0118,  ..., 0.0118, 0.0118, 0.0118],\n",
      "         ...,\n",
      "         [0.0118, 0.0118, 0.0118,  ..., 0.0118, 0.0118, 0.0118],\n",
      "         [0.0118, 0.0118, 0.0118,  ..., 0.0118, 0.0118, 0.0118],\n",
      "         [0.0118, 0.0118, 0.0118,  ..., 0.0118, 0.0118, 0.0118]]]), action=tensor([2]), reward=tensor([10.]), done=tensor([0.]), next_state=tensor([[[0.0118, 0.0118, 0.0118,  ..., 0.0118, 0.0118, 0.0118],\n",
      "         [0.0118, 0.0118, 0.0118,  ..., 0.0118, 0.0118, 0.0118],\n",
      "         [0.0118, 0.0118, 0.0118,  ..., 0.0118, 0.0118, 0.0118],\n",
      "         ...,\n",
      "         [0.0118, 0.0118, 0.0118,  ..., 0.0118, 0.0118, 0.0118],\n",
      "         [0.0118, 0.0118, 0.0118,  ..., 0.0118, 0.0118, 0.0118],\n",
      "         [0.0118, 0.0118, 0.0118,  ..., 0.0118, 0.0118, 0.0118]],\n",
      "\n",
      "        [[0.0118, 0.0118, 0.0118,  ..., 0.0118, 0.0118, 0.0118],\n",
      "         [0.0118, 0.0118, 0.0118,  ..., 0.0118, 0.0118, 0.0118],\n",
      "         [0.0118, 0.0118, 0.0118,  ..., 0.0118, 0.0118, 0.0118],\n",
      "         ...,\n",
      "         [0.0118, 0.0118, 0.0118,  ..., 0.0118, 0.0118, 0.0118],\n",
      "         [0.0118, 0.0118, 0.0118,  ..., 0.0118, 0.0118, 0.0118],\n",
      "         [0.0118, 0.0118, 0.0118,  ..., 0.0118, 0.0118, 0.0118]],\n",
      "\n",
      "        [[0.0118, 0.0118, 0.0118,  ..., 0.0118, 0.0118, 0.0118],\n",
      "         [0.0118, 0.0118, 0.0118,  ..., 0.0118, 0.0118, 0.0118],\n",
      "         [0.0118, 0.0118, 0.0118,  ..., 0.0118, 0.0118, 0.0118],\n",
      "         ...,\n",
      "         [0.0118, 0.0118, 0.0118,  ..., 0.0118, 0.0118, 0.0118],\n",
      "         [0.0118, 0.0118, 0.0118,  ..., 0.0118, 0.0118, 0.0118],\n",
      "         [0.0118, 0.0118, 0.0118,  ..., 0.0118, 0.0118, 0.0118]],\n",
      "\n",
      "        [[0.0118, 0.0118, 0.0118,  ..., 0.0118, 0.0118, 0.0118],\n",
      "         [0.0118, 0.0118, 0.0118,  ..., 0.0118, 0.0118, 0.0118],\n",
      "         [0.0118, 0.0118, 0.0118,  ..., 0.0118, 0.0118, 0.0118],\n",
      "         ...,\n",
      "         [0.0118, 0.0118, 0.0118,  ..., 0.0118, 0.0118, 0.0118],\n",
      "         [0.0118, 0.0118, 0.0118,  ..., 0.0118, 0.0118, 0.0118],\n",
      "         [0.0118, 0.0118, 0.0118,  ..., 0.0118, 0.0118, 0.0118]]]))\n"
     ]
    }
   ],
   "source": [
    "import replay_memory \n",
    "from replay_memory import ReplayMemory, Transition\n",
    "import importlib\n",
    "importlib.reload(replay_memory)\n",
    "\n",
    "# Creamos la memoria de repetición\n",
    "replay_memory = ReplayMemory(3, lambda obs,device:torch.tensor(obs, dtype=torch.float32, device=device) / 255.0)\n",
    "\n",
    "# Añadimos transiciones a la memoria (solo las 3 últimas se guardan)\n",
    "replay_memory.add(np.ones((4,84,84)), 0, 10, False, np.ones((4,84,84)))\n",
    "replay_memory.add(np.ones((4,84,84))*2, 1, 10, False, np.ones((4,84,84))*2)\n",
    "replay_memory.add(np.ones((4,84,84))*3, 2, 10, False, np.ones((4,84,84))*3)\n",
    "replay_memory.add(np.ones((4,84,84))*4, 3, 10, True, np.ones((4,84,84))*4)\n",
    "\n",
    "# Mostramos el tamaño de la memoria\n",
    "print(f\"Memory size: {len(replay_memory)}\\n\")\n",
    "\n",
    "# Sampleamos 3 transiciones de la memoria\n",
    "sampled_transition = replay_memory.sample(3)\n",
    "\n",
    "# Comprobamos los shapes de los datos\n",
    "(state, action, reward, done, next_state) = sampled_transition[0]\n",
    "print(\"Sate shape:\", state.shape)\n",
    "print(\"Action shape:\", action.shape)\n",
    "print(\"Reward shape:\", reward.shape)\n",
    "print(\"Done shape:\", done.shape)\n",
    "print(\"Next state shape:\", next_state.shape)\n",
    "\n",
    "# Mostramos un sample de la memoria\n",
    "print(f\"Memory sample:\")\n",
    "for i, sample in enumerate(sampled_transition):\n",
    "    print(f\"Sample {i}: {sample}\")\n",
    "\n",
    "\n"
   ]
  },
  {
   "cell_type": "markdown",
   "metadata": {
    "id": "j7Ygv5Mjtb-F",
    "pycharm": {
     "name": "#%% md\n"
    }
   },
   "source": [
    "## Modelo\n",
    "\n",
    "Vamos a usar un mismo modelo FeedForward para estos dos problemas (entrenado en cada problema particular). Recomendamos simplicidad en la creación del mismo, pero tienen total libertad al momento de implementarlo.\n",
    "\n",
    "> Para implementar esta funcionalidad se debe modificar el archivo **dqn_cnn_model.py**. Se recomienda empezar por una arquitectura simple como la que se muestra en el paper de Mnih et al. (2013) y luego experimentar con arquitecturas más complejas."
   ]
  },
  {
   "cell_type": "code",
   "execution_count": 11,
   "metadata": {
    "id": "bkNBvJB6ryp7",
    "pycharm": {
     "name": "#%%\n"
    }
   },
   "outputs": [
    {
     "name": "stdout",
     "output_type": "stream",
     "text": [
      "Actions shape: Discrete(4)\n",
      "Observatiion shape: (4, 84, 84)\n"
     ]
    },
    {
     "data": {
      "text/plain": [
       "==========================================================================================\n",
       "Layer (type:depth-idx)                   Output Shape              Param #\n",
       "==========================================================================================\n",
       "DQN_CNN_Model                            [32, 4]                   --\n",
       "├─Conv2d: 1-1                            [32, 16, 20, 20]          4,112\n",
       "├─Conv2d: 1-2                            [32, 32, 9, 9]            8,224\n",
       "├─Linear: 1-3                            [32, 256]                 663,808\n",
       "├─Linear: 1-4                            [32, 4]                   1,028\n",
       "==========================================================================================\n",
       "Total params: 677,172\n",
       "Trainable params: 677,172\n",
       "Non-trainable params: 0\n",
       "Total mult-adds (Units.MEGABYTES): 95.22\n",
       "==========================================================================================\n",
       "Input size (MB): 3.61\n",
       "Forward/backward pass size (MB): 2.37\n",
       "Params size (MB): 2.71\n",
       "Estimated Total Size (MB): 8.69\n",
       "=========================================================================================="
      ]
     },
     "execution_count": 11,
     "metadata": {},
     "output_type": "execute_result"
    }
   ],
   "source": [
    "from dqn_cnn_model import DQN_CNN_Model\n",
    "\n",
    "env = make_env(ENV_NAME,\n",
    "                record_every=None,\n",
    "                grayscale=GRAY_SCALE,\n",
    "                screen_size=SCREEN_SIZE,\n",
    "                stack_frames=NUM_STACKED_FRAMES,\n",
    "                skip_frames=SKIP_FRAMES\n",
    "                )\n",
    "print(\"Actions shape:\",env.action_space)\n",
    "print(\"Observatiion shape:\",env.observation_space.shape)\n",
    "\n",
    "env.close()\n",
    "\n",
    "cnn_model = DQN_CNN_Model(env.observation_space.shape, env.action_space.n).to(DEVICE)\n",
    "summary(cnn_model, input_size=(32, SKIP_FRAMES, SCREEN_SIZE, SCREEN_SIZE), device=DEVICE) # 32 es el batch size"
   ]
  },
  {
   "cell_type": "markdown",
   "metadata": {},
   "source": [
    "La red esta definida para que reciba un tensor de 4 dimensiones (batch_size, num_frames, height, width) y devuelve un tensor de 2 dimensiones (batch_size, num_actions). La función `forward` es la encargada de definir el flujo de datos a través de la red. En este caso, se utiliza una red convolucional seguida de capas totalmente conectadas"
   ]
  },
  {
   "cell_type": "code",
   "execution_count": 12,
   "metadata": {},
   "outputs": [
    {
     "name": "stdout",
     "output_type": "stream",
     "text": [
      "Q-values shape: torch.Size([1, 4])\n"
     ]
    }
   ],
   "source": [
    "obs_tensor_batch = torch.rand((NUM_STACKED_FRAMES,SCREEN_SIZE,SCREEN_SIZE)).unsqueeze(0).to(DEVICE) # Añadimos una dimensión para el batch y lo pasamos al dispositivo\n",
    "print(f\"Q-values shape: {cnn_model(obs_tensor_batch).shape}\") # shape: (1, num_actions) "
   ]
  },
  {
   "cell_type": "markdown",
   "metadata": {},
   "source": [
    "Los valores de Q se obtienen a partir de la salida de la red, cada columna representa el valor Q para cada acción posible en el estado actual. "
   ]
  },
  {
   "cell_type": "code",
   "execution_count": 13,
   "metadata": {},
   "outputs": [
    {
     "data": {
      "text/plain": [
       "tensor([[-0.0188,  0.0008,  0.0328,  0.0380]], device='cuda:0',\n",
       "       grad_fn=<AddmmBackward0>)"
      ]
     },
     "execution_count": 13,
     "metadata": {},
     "output_type": "execute_result"
    }
   ],
   "source": [
    "cnn_model(obs_tensor_batch) "
   ]
  },
  {
   "cell_type": "markdown",
   "metadata": {},
   "source": [
    "Podemos preguntar cuál es la acción con mayor valor Q en un estado."
   ]
  },
  {
   "cell_type": "code",
   "execution_count": 14,
   "metadata": {},
   "outputs": [
    {
     "data": {
      "text/plain": [
       "torch.return_types.max(\n",
       "values=tensor([0.0380], device='cuda:0', grad_fn=<MaxBackward0>),\n",
       "indices=tensor([3], device='cuda:0'))"
      ]
     },
     "execution_count": 14,
     "metadata": {},
     "output_type": "execute_result"
    }
   ],
   "source": [
    "cnn_model(obs_tensor_batch).max(1)"
   ]
  },
  {
   "cell_type": "markdown",
   "metadata": {},
   "source": [
    "En el siguiente ejemplo vamos a ver cómo tomar los valores de acciones deseables para un conjunto de estados. "
   ]
  },
  {
   "cell_type": "code",
   "execution_count": 15,
   "metadata": {},
   "outputs": [
    {
     "name": "stdout",
     "output_type": "stream",
     "text": [
      "Batch shape: torch.Size([3, 4, 84, 84])\n",
      "Q-values: tensor([[-0.0399,  0.0014,  0.0332,  0.0316],\n",
      "        [-0.0319,  0.0112,  0.0292,  0.0156],\n",
      "        [-0.0356,  0.0033,  0.0296,  0.0224]], device='cuda:0',\n",
      "       grad_fn=<AddmmBackward0>)\n",
      "Q-values: tensor([[0.0014],\n",
      "        [0.0292],\n",
      "        [0.0224]], device='cuda:0', grad_fn=<GatherBackward0>)\n"
     ]
    }
   ],
   "source": [
    "# Creamos 3 observaciones aleatorias para probar el modelo\n",
    "obs_ran1 = torch.rand(4, 84, 84)\n",
    "obs_ran2 = torch.rand(4, 84, 84)\n",
    "obs_ran3 = torch.rand(4, 84, 84)\n",
    "\n",
    "batch = torch.stack([obs_ran1, obs_ran2, obs_ran3], dim=0).to(DEVICE) # shape: (3, 4, 84, 84)\n",
    "print(f\"Batch shape: {batch.shape}\")\n",
    "\n",
    "actions =  torch.tensor([1, 2, 3], device=DEVICE).unsqueeze(1) # queremos la acción 1 para la primera observación, la acción 2 para la segunda y la acción 3 para la tercera\n",
    "\n",
    "Q_test = cnn_model(batch)\n",
    "print(f\"Q-values: {Q_test}\")\n",
    "print(f\"Q-values: {Q_test.gather(1, actions)}\") # https://pytorch.org/docs/main/generated/torch.gather.html"
   ]
  },
  {
   "cell_type": "markdown",
   "metadata": {},
   "source": [
    "## Phi \n",
    "\n",
    "La función para procesar los estados (phi en el paper) que es necesaria para poder usar el modelo de Pytorch con las representaciones de gym. Esta función pasa una observación de gym a un tensor de Pytorch y la normaliza.\n",
    "\n",
    "> Técnicamente la función phi tiene más responsabilidades, como la de apilar los frames y el downsampling. En nuestro caso se lo delegamos a los wrappers de gymnasium."
   ]
  },
  {
   "cell_type": "code",
   "execution_count": 16,
   "metadata": {
    "id": "oegpMg25t9I9",
    "pycharm": {
     "name": "#%%\n"
    }
   },
   "outputs": [
    {
     "name": "stdout",
     "output_type": "stream",
     "text": [
      "Observation shape: torch.Size([4, 84, 84])\n"
     ]
    }
   ],
   "source": [
    "def process_state(obs, device=DEVICE):\n",
    "    \"\"\"\n",
    "    Preprocess the state to be used as input for the model (transform to tensor).\n",
    "    \"\"\"\n",
    "    return torch.tensor(obs, dtype=torch.float32, device=device) / 255.0\n",
    "\n",
    "obs, _ = env.reset()\n",
    "obs_tensor = process_state(obs)\n",
    "print(f\"Observation shape: {obs_tensor.shape}\")"
   ]
  },
  {
   "cell_type": "markdown",
   "metadata": {
    "id": "z9B7ZY9Htj_F",
    "pycharm": {
     "name": "#%% md\n"
    }
   },
   "source": [
    "## Agente\n",
    "\n",
    "Vamos a definir una clase agente (abstracto), encargado de interactuar con el ambiente y entrenar los modelos. Los métdos definidos deben funcionar para ambos problemas simplemente cambiando el modelo a utilizar para cada ambiente.\n",
    "\n",
    "Abajo dejamos un esqueleto del mismo y las funciones a completar. Recomendamos no alterar la estructura del mismo, pero pueden definir las funciones auxiliares que consideren necesarias.\n",
    "\n",
    "> Para implementar esta funcionalidad se debe modificar los archivos **abstract_agent.py** y **dqn_agent.py**.\n",
    "\n",
    "Funciones a completar:\n",
    "\n",
    "\n",
    "1. **init**: que inicializa los parametros del agente.\n",
    "\n",
    "2. **compute_epsilon**: que computa el valor actual de epsilon en base al número de pasos actuales y si esta entrenando o no.\n",
    "\n",
    "3. **select_action**: Seleccionando acciones \"epsilongreedy-mente\" si estamos entranando y completamente greedy en otro caso.\n",
    "\n",
    "4. **train**: que entrena el agente por un número dado de episodios de largo determinado.\n",
    "\n",
    "5. **record_test_episode**: para grabar un episodio con el agente siempre seleccionando la mejor accion conocida."
   ]
  },
  {
   "cell_type": "markdown",
   "metadata": {
    "id": "BOD-ENZRtyMt",
    "pycharm": {
     "name": "#%% md\n"
    }
   },
   "source": [
    "## Entrenamiento"
   ]
  },
  {
   "cell_type": "code",
   "execution_count": 21,
   "metadata": {},
   "outputs": [],
   "source": [
    "#Hiperparámetros de entrenamiento del agente DQN\n",
    "TOTAL_STEPS = 10_000_000\n",
    "EPISODES = 1000\n",
    "STEPS_PER_EPISODE = 20_000\n",
    "\n",
    "EPSILON_INI = 1\n",
    "EPSILON_MIN = 0.05\n",
    "EPSILON_ANNEAL_STEPS = 1_000_000\n",
    "\n",
    "EPISODE_BLOCK = 100\n",
    "\n",
    "BATCH_SIZE = 32\n",
    "BUFFER_SIZE = 50_000\n",
    "\n",
    "GAMMA = 0.995\n",
    "LEARNING_RATE = 1e-5"
   ]
  },
  {
   "cell_type": "code",
   "execution_count": 18,
   "metadata": {},
   "outputs": [
    {
     "name": "stderr",
     "output_type": "stream",
     "text": [
      "c:\\Users\\clean\\miniconda3\\envs\\obl_taller_ia\\Lib\\site-packages\\gymnasium\\wrappers\\rendering.py:283: UserWarning: \u001b[33mWARN: Overwriting existing videos at c:\\Users\\clean\\Dropbox\\maestria\\workspace\\taller_ia\\obligatorio\\videos\\dqn_training folder (try specifying a different `video_folder` for the `RecordVideo` wrapper if this is not desired)\u001b[0m\n",
      "  logger.warn(\n",
      "Entrenando: 100%|██████████| 10/10 [00:06<00:00,  1.44episode/s, reward=0.9, epsilon=0.998, steps=1791] \n"
     ]
    }
   ],
   "source": [
    "import dqn_agent\n",
    "from dqn_agent import DQNAgent\n",
    "importlib.reload(dqn_agent)\n",
    "\n",
    "env = make_env(ENV_NAME,\n",
    "                video_folder='./videos/dqn_training',\n",
    "                name_prefix=\"breakout\",\n",
    "                record_every=500,\n",
    "                grayscale=GRAY_SCALE,\n",
    "                screen_size=SCREEN_SIZE,\n",
    "                stack_frames=NUM_STACKED_FRAMES,\n",
    "                skip_frames=SKIP_FRAMES\n",
    "                )\n",
    "\n",
    "net = DQN_CNN_Model(env.observation_space.shape, env.action_space.n)\n",
    "\n",
    "dqn_agent = DQNAgent(env, net, process_state, BUFFER_SIZE, BATCH_SIZE, LEARNING_RATE, GAMMA, epsilon_i=EPSILON_INI, epsilon_f=EPSILON_MIN, epsilon_anneal_steps=EPSILON_ANNEAL_STEPS, episode_block=EPISODE_BLOCK, device=DEVICE)\n",
    "\n",
    "dqn_rewards = dqn_agent.train(EPISODES, STEPS_PER_EPISODE, TOTAL_STEPS)\n",
    "\n",
    "env.close()"
   ]
  },
  {
   "cell_type": "code",
   "execution_count": 19,
   "metadata": {},
   "outputs": [
    {
     "name": "stderr",
     "output_type": "stream",
     "text": [
      "c:\\Users\\clean\\miniconda3\\envs\\obl_taller_ia\\Lib\\site-packages\\gymnasium\\wrappers\\rendering.py:283: UserWarning: \u001b[33mWARN: Overwriting existing videos at c:\\Users\\clean\\Dropbox\\maestria\\workspace\\taller_ia\\obligatorio\\videos\\dqn_validation folder (try specifying a different `video_folder` for the `RecordVideo` wrapper if this is not desired)\u001b[0m\n",
      "  logger.warn(\n"
     ]
    },
    {
     "ename": "KeyboardInterrupt",
     "evalue": "",
     "output_type": "error",
     "traceback": [
      "\u001b[31m---------------------------------------------------------------------------\u001b[39m",
      "\u001b[31mKeyboardInterrupt\u001b[39m                         Traceback (most recent call last)",
      "\u001b[36mCell\u001b[39m\u001b[36m \u001b[39m\u001b[32mIn[19]\u001b[39m\u001b[32m, line 11\u001b[39m\n\u001b[32m      1\u001b[39m env = make_env(ENV_NAME,\n\u001b[32m      2\u001b[39m                 video_folder=\u001b[33m'\u001b[39m\u001b[33m./videos/dqn_validation\u001b[39m\u001b[33m'\u001b[39m,\n\u001b[32m      3\u001b[39m                 name_prefix=\u001b[33m\"\u001b[39m\u001b[33mbreakout\u001b[39m\u001b[33m\"\u001b[39m,\n\u001b[32m   (...)\u001b[39m\u001b[32m      8\u001b[39m                 skip_frames=SKIP_FRAMES\n\u001b[32m      9\u001b[39m                 )\n\u001b[32m---> \u001b[39m\u001b[32m11\u001b[39m \u001b[43mdqn_agent\u001b[49m\u001b[43m.\u001b[49m\u001b[43mplay\u001b[49m\u001b[43m(\u001b[49m\u001b[43menv\u001b[49m\u001b[43m,\u001b[49m\u001b[43m \u001b[49m\u001b[43mepisodes\u001b[49m\u001b[43m=\u001b[49m\u001b[32;43m3\u001b[39;49m\u001b[43m)\u001b[49m\n\u001b[32m     13\u001b[39m env.close()\n",
      "\u001b[36mFile \u001b[39m\u001b[32mc:\\Users\\clean\\Dropbox\\maestria\\workspace\\taller_ia\\obligatorio\\abstract_agent.py:99\u001b[39m, in \u001b[36mAgent.play\u001b[39m\u001b[34m(self, env, episodes)\u001b[39m\n\u001b[32m     97\u001b[39m current_episode_steps = \u001b[32m0\u001b[39m\n\u001b[32m     98\u001b[39m \u001b[38;5;28;01mwhile\u001b[39;00m \u001b[38;5;129;01mnot\u001b[39;00m done:\n\u001b[32m---> \u001b[39m\u001b[32m99\u001b[39m     action = \u001b[38;5;28;43mself\u001b[39;49m\u001b[43m.\u001b[49m\u001b[43mselect_action\u001b[49m\u001b[43m(\u001b[49m\u001b[43mstate\u001b[49m\u001b[43m,\u001b[49m\u001b[43m \u001b[49m\u001b[43mcurrent_episode_steps\u001b[49m\u001b[43m,\u001b[49m\u001b[43m \u001b[49m\u001b[43mtrain\u001b[49m\u001b[43m \u001b[49m\u001b[43m=\u001b[49m\u001b[43m \u001b[49m\u001b[38;5;28;43;01mFalse\u001b[39;49;00m\u001b[43m)\u001b[49m\n\u001b[32m    100\u001b[39m     next_state, _, terminated, truncated, _ = env.step(action)\n\u001b[32m    101\u001b[39m     state = next_state \n",
      "\u001b[36mFile \u001b[39m\u001b[32mc:\\Users\\clean\\Dropbox\\maestria\\workspace\\taller_ia\\obligatorio\\dqn_agent.py:27\u001b[39m, in \u001b[36mDQNAgent.select_action\u001b[39m\u001b[34m(self, state, current_steps, train)\u001b[39m\n\u001b[32m     25\u001b[39m   phi_state = \u001b[38;5;28mself\u001b[39m.state_processing_function(state).unsqueeze(\u001b[32m0\u001b[39m)\n\u001b[32m     26\u001b[39m   q = \u001b[38;5;28mself\u001b[39m.policy_net(phi_state)\n\u001b[32m---> \u001b[39m\u001b[32m27\u001b[39m   action = \u001b[43mtorch\u001b[49m\u001b[43m.\u001b[49m\u001b[43margmax\u001b[49m\u001b[43m(\u001b[49m\u001b[43mq\u001b[49m\u001b[43m,\u001b[49m\u001b[43m \u001b[49m\u001b[43mdim\u001b[49m\u001b[43m=\u001b[49m\u001b[32;43m1\u001b[39;49m\u001b[43m)\u001b[49m\u001b[43m.\u001b[49m\u001b[43mitem\u001b[49m\u001b[43m(\u001b[49m\u001b[43m)\u001b[49m\n\u001b[32m     28\u001b[39m \u001b[38;5;28;01mreturn\u001b[39;00m action\n",
      "\u001b[31mKeyboardInterrupt\u001b[39m: "
     ]
    }
   ],
   "source": [
    "env = make_env(ENV_NAME,\n",
    "                video_folder='./videos/dqn_validation',\n",
    "                name_prefix=\"breakout\",\n",
    "                record_every=10,\n",
    "                grayscale=GRAY_SCALE,\n",
    "                screen_size=SCREEN_SIZE,\n",
    "                stack_frames=NUM_STACKED_FRAMES,\n",
    "                skip_frames=SKIP_FRAMES\n",
    "                )\n",
    "\n",
    "dqn_agent.play(env, episodes=3)\n",
    "\n",
    "env.close()"
   ]
  },
  {
   "cell_type": "code",
   "execution_count": null,
   "metadata": {},
   "outputs": [
    {
     "data": {
      "text/html": [
       "<video controls  width=\"600\" >\n",
       " <source src=\"data:video/mp4;base64,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\" type=\"video/mp4\">\n",
       " Your browser does not support the video tag.\n",
       " </video>"
      ],
      "text/plain": [
       "<IPython.core.display.Video object>"
      ]
     },
     "execution_count": 39,
     "metadata": {},
     "output_type": "execute_result"
    }
   ],
   "source": [
    "# Ruta al archivo de vídeo en tu sistema de ficheros\n",
    "video_path = \"./videos/dqn_validation/breakout-episode-0.mp4\"\n",
    "\n",
    "# Muestra el vídeo\n",
    "Video(video_path, embed=True, width=600)"
   ]
  },
  {
   "cell_type": "markdown",
   "metadata": {},
   "source": [
    "#### Graficas \n",
    "..."
   ]
  },
  {
   "cell_type": "markdown",
   "metadata": {
    "id": "QETh1K7pt9I_"
   },
   "source": [
    "# Double Deep Q Learning\n",
    "\n",
    "Double DQN mejora la versión clásica de DQN corrigiendo el sesgo de sobreestimación de los valores \n",
    "𝑄\n",
    "Q. Para ello, desacopla la selección de la acción de su evaluación: en cada paso, la red online elige la acción que maximiza \n",
    "𝑄\n",
    "Q, pero la red objetivo distinta estima el valor de esa acción. Esta separación reduce el sesgo hacia valores demasiado optimistas y aporta mayor estabilidad al entrenamiento. El resto de la estructura —replay buffer, política ε-greedy, etc— se mantiene igual que en DQN, aprovechando así un diseño casi idéntico al original pero con resultados más fiables .\n",
    "\n",
    "Fuente: [arXiv:1509.06461](https://arxiv.org/abs/1509.06461)\n",
    "\n",
    "> Vamos a utilizar el mismo modelo de red neuronal creado para el problema anterior y la misma implementación de memoria, dejamos un esqueleto de un agente de Double Deep Q learning para completar en el archivo **double_dqn_agent.py**"
   ]
  },
  {
   "cell_type": "code",
   "execution_count": null,
   "metadata": {
    "id": "kDNkAtdMt9I_",
    "pycharm": {
     "name": "#%%\n"
    }
   },
   "outputs": [
    {
     "name": "stderr",
     "output_type": "stream",
     "text": [
      "c:\\Users\\clean\\miniconda3\\envs\\obl_taller_ia\\Lib\\site-packages\\gymnasium\\wrappers\\rendering.py:283: UserWarning: \u001b[33mWARN: Overwriting existing videos at c:\\Users\\clean\\Dropbox\\maestria\\workspace\\taller_ia\\obligatorio\\videos\\ddqn_training folder (try specifying a different `video_folder` for the `RecordVideo` wrapper if this is not desired)\u001b[0m\n",
      "  logger.warn(\n",
      "Entrenando: 100%|██████████| 10/10 [00:07<00:00,  1.31episode/s, reward=1.5, epsilon=0.998, steps=1928]\n"
     ]
    }
   ],
   "source": [
    "import double_dqn_agent\n",
    "from double_dqn_agent import DoubleDQNAgent\n",
    "importlib.reload(double_dqn_agent)\n",
    "\n",
    "env = make_env(ENV_NAME,\n",
    "                video_folder='./videos/ddqn_training',\n",
    "                name_prefix=\"breakout\",\n",
    "                record_every=500,\n",
    "                grayscale=GRAY_SCALE,\n",
    "                screen_size=SCREEN_SIZE,\n",
    "                stack_frames=NUM_STACKED_FRAMES,\n",
    "                skip_frames=SKIP_FRAMES)\n",
    "\n",
    "\n",
    "modelo_a = DQN_CNN_Model(env.observation_space.shape, env.action_space.n).to(DEVICE)\n",
    "modelo_b = DQN_CNN_Model(env.observation_space.shape, env.action_space.n).to(DEVICE)\n",
    "\n",
    "ddqn_agent = DoubleDQNAgent(env, modelo_a, modelo_b, process_state, BUFFER_SIZE, BATCH_SIZE, LEARNING_RATE, GAMMA, epsilon_i= EPSILON_INI, epsilon_f=EPSILON_MIN, epsilon_anneal_steps=EPSILON_ANNEAL_STEPS, episode_block = EPISODE_BLOCK, device=DEVICE)\n",
    "\n",
    "ddqn_rewards = ddqn_agent.train(EPISODES, STEPS_PER_EPISODE, TOTAL_STEPS)\n",
    "\n",
    "env.close()"
   ]
  },
  {
   "cell_type": "code",
   "execution_count": null,
   "metadata": {},
   "outputs": [],
   "source": [
    "env = make_env(ENV_NAME,\n",
    "                video_folder='./videos/ddqn_validation',\n",
    "                name_prefix=\"breakout\",\n",
    "                record_every=1,\n",
    "                grayscale=GRAY_SCALE,\n",
    "                screen_size=SCREEN_SIZE,\n",
    "                stack_frames=NUM_STACKED_FRAMES,\n",
    "                skip_frames=SKIP_FRAMES\n",
    "                )\n",
    "\n",
    "ddqn_agent.play(env, episodes=3)\n",
    "\n",
    "env.close()"
   ]
  },
  {
   "cell_type": "code",
   "execution_count": null,
   "metadata": {},
   "outputs": [
    {
     "data": {
      "text/html": [
       "<video controls  width=\"600\" >\n",
       " <source src=\"data:video/mp4;base64,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\" type=\"video/mp4\">\n",
       " Your browser does not support the video tag.\n",
       " </video>"
      ],
      "text/plain": [
       "<IPython.core.display.Video object>"
      ]
     },
     "execution_count": 42,
     "metadata": {},
     "output_type": "execute_result"
    }
   ],
   "source": [
    "# Ruta al archivo de vídeo en tu sistema de ficheros\n",
    "video_path = \"./videos/ddqn_validation/breakout-episode-0.mp4\"\n",
    "\n",
    "# Muestra el vídeo\n",
    "Video(video_path, embed=True, width=600)"
   ]
  },
  {
   "cell_type": "markdown",
   "metadata": {},
   "source": [
    "#### Graficas \n",
    "..."
   ]
  },
  {
   "cell_type": "markdown",
   "metadata": {},
   "source": [
    "# Experimentación\n",
    "\n",
    "## Doble DQN con prioritised Replay Memory"
   ]
  },
  {
   "cell_type": "code",
   "execution_count": 22,
   "metadata": {},
   "outputs": [
    {
     "name": "stderr",
     "output_type": "stream",
     "text": [
      "Entrenando:  14%|█▍        | 145/1000 [04:23<25:56,  1.82s/episode, reward=1.23, epsilon=0.974, steps=27263]\n"
     ]
    },
    {
     "ename": "KeyboardInterrupt",
     "evalue": "",
     "output_type": "error",
     "traceback": [
      "\u001b[31m---------------------------------------------------------------------------\u001b[39m",
      "\u001b[31mKeyboardInterrupt\u001b[39m                         Traceback (most recent call last)",
      "\u001b[36mCell\u001b[39m\u001b[36m \u001b[39m\u001b[32mIn[22]\u001b[39m\u001b[32m, line 31\u001b[39m\n\u001b[32m     16\u001b[39m target_model = DQN_CNN_Model(env.observation_space.shape, env.action_space.n).to(DEVICE)\n\u001b[32m     17\u001b[39m prioritised_ddqn_agent = PrioritisedDoubleDQNAgent(gym_env=env, \n\u001b[32m     18\u001b[39m                                        model_a=online_model, \n\u001b[32m     19\u001b[39m                                        model_b=target_model, \n\u001b[32m   (...)\u001b[39m\u001b[32m     28\u001b[39m                                        episode_block = EPISODE_BLOCK, \n\u001b[32m     29\u001b[39m                                        device=DEVICE)\n\u001b[32m---> \u001b[39m\u001b[32m31\u001b[39m prioritised_ddqn_rewards = \u001b[43mprioritised_ddqn_agent\u001b[49m\u001b[43m.\u001b[49m\u001b[43mtrain\u001b[49m\u001b[43m(\u001b[49m\u001b[43mEPISODES\u001b[49m\u001b[43m,\u001b[49m\u001b[43m \u001b[49m\u001b[43mSTEPS_PER_EPISODE\u001b[49m\u001b[43m,\u001b[49m\u001b[43m \u001b[49m\u001b[43mTOTAL_STEPS\u001b[49m\u001b[43m)\u001b[49m\n\u001b[32m     33\u001b[39m env.close()\n",
      "\u001b[36mFile \u001b[39m\u001b[32mc:\\Users\\clean\\Dropbox\\maestria\\workspace\\taller_ia\\obligatorio\\abstract_agent.py:63\u001b[39m, in \u001b[36mAgent.train\u001b[39m\u001b[34m(self, number_episodes, max_steps_episode, max_steps)\u001b[39m\n\u001b[32m     61\u001b[39m done = terminated \u001b[38;5;129;01mor\u001b[39;00m truncated\n\u001b[32m     62\u001b[39m \u001b[38;5;28mself\u001b[39m.memory.add(state, action, reward, done, next_state)\n\u001b[32m---> \u001b[39m\u001b[32m63\u001b[39m \u001b[38;5;28;43mself\u001b[39;49m\u001b[43m.\u001b[49m\u001b[43mupdate_weights\u001b[49m\u001b[43m(\u001b[49m\u001b[43m)\u001b[49m\n\u001b[32m     64\u001b[39m state = next_state\n\u001b[32m     65\u001b[39m \u001b[38;5;28;01mif\u001b[39;00m(done): \u001b[38;5;28;01mbreak\u001b[39;00m\n",
      "\u001b[36mFile \u001b[39m\u001b[32mc:\\Users\\clean\\Dropbox\\maestria\\workspace\\taller_ia\\obligatorio\\prioritised_double_dqn_agent.py:53\u001b[39m, in \u001b[36mPrioritisedDoubleDQNAgent.update_weights\u001b[39m\u001b[34m(self)\u001b[39m\n\u001b[32m     50\u001b[39m \u001b[38;5;28mself\u001b[39m.optim.zero_grad()\n\u001b[32m     52\u001b[39m \u001b[38;5;66;03m# 2) Muestrear minibatch y convertir a tensores (states, actions, rewards, dones, next_states\u001b[39;00m\n\u001b[32m---> \u001b[39m\u001b[32m53\u001b[39m trasitions, transitions_probabilities, transitions_index = \u001b[38;5;28;43mself\u001b[39;49m\u001b[43m.\u001b[49m\u001b[43mmemory\u001b[49m\u001b[43m.\u001b[49m\u001b[43msample\u001b[49m\u001b[43m(\u001b[49m\u001b[38;5;28;43mself\u001b[39;49m\u001b[43m.\u001b[49m\u001b[43mbatch_size\u001b[49m\u001b[43m)\u001b[49m\n\u001b[32m     54\u001b[39m satate_list, actions_list, reward_list, dones_list, next_state_list = \u001b[38;5;28mzip\u001b[39m(*trasitions)\n\u001b[32m     55\u001b[39m state_batch = torch.stack(satate_list).to(\u001b[38;5;28mself\u001b[39m.device)                                                            \u001b[38;5;66;03m# Shape: (batch_size, 4, 84, 84)\u001b[39;00m\n",
      "\u001b[36mFile \u001b[39m\u001b[32mc:\\Users\\clean\\Dropbox\\maestria\\workspace\\taller_ia\\obligatorio\\prioritised_replay_memory.py:67\u001b[39m, in \u001b[36mPrioritisedReplayMemory.sample\u001b[39m\u001b[34m(self, batch_size)\u001b[39m\n\u001b[32m     64\u001b[39m all_probabilities = np.array([(priority ** \u001b[38;5;28mself\u001b[39m.alpha_p)/priority_sum \u001b[38;5;28;01mfor\u001b[39;00m priority \u001b[38;5;129;01min\u001b[39;00m \u001b[38;5;28mself\u001b[39m.transition_priorities])\n\u001b[32m     66\u001b[39m \u001b[38;5;66;03m# Seleccionar índices de transiciones basados en la probabilidad\u001b[39;00m\n\u001b[32m---> \u001b[39m\u001b[32m67\u001b[39m selected_index_array = \u001b[43mnp\u001b[49m\u001b[43m.\u001b[49m\u001b[43mrandom\u001b[49m\u001b[43m.\u001b[49m\u001b[43mchoice\u001b[49m\u001b[43m(\u001b[49m\u001b[38;5;28;43mlen\u001b[39;49m\u001b[43m(\u001b[49m\u001b[38;5;28;43mself\u001b[39;49m\u001b[43m.\u001b[49m\u001b[43mmemory\u001b[49m\u001b[43m)\u001b[49m\u001b[43m,\u001b[49m\u001b[43m \u001b[49m\u001b[43mbatch_size\u001b[49m\u001b[43m,\u001b[49m\u001b[43m \u001b[49m\u001b[43mp\u001b[49m\u001b[43m=\u001b[49m\u001b[43mall_probabilities\u001b[49m\u001b[43m)\u001b[49m\n\u001b[32m     68\u001b[39m selected_index = torch.tensor(selected_index_array, dtype=torch.int64, device=\u001b[38;5;28mself\u001b[39m.device)     \n\u001b[32m     70\u001b[39m \u001b[38;5;66;03m# Seleccionar las probabilidades de los elementos seleccionados\u001b[39;00m\n",
      "\u001b[31mKeyboardInterrupt\u001b[39m: "
     ]
    }
   ],
   "source": [
    "import prioritised_double_dqn_agent\n",
    "from prioritised_double_dqn_agent import PrioritisedDoubleDQNAgent\n",
    "importlib.reload(prioritised_double_dqn_agent)\n",
    "\n",
    "env = make_env(ENV_NAME,\n",
    "                video_folder='./videos/prioritised_ddqn_training',\n",
    "                name_prefix=\"breakout\",\n",
    "                record_every=500,\n",
    "                grayscale=GRAY_SCALE,\n",
    "                screen_size=SCREEN_SIZE,\n",
    "                stack_frames=NUM_STACKED_FRAMES,\n",
    "                skip_frames=SKIP_FRAMES)\n",
    "\n",
    "\n",
    "online_model = DQN_CNN_Model(env.observation_space.shape, env.action_space.n).to(DEVICE)\n",
    "target_model = DQN_CNN_Model(env.observation_space.shape, env.action_space.n).to(DEVICE)\n",
    "prioritised_ddqn_agent = PrioritisedDoubleDQNAgent(gym_env=env, \n",
    "                                       model_a=online_model, \n",
    "                                       model_b=target_model, \n",
    "                                       obs_processing_func=process_state, \n",
    "                                       memory_buffer_size=BUFFER_SIZE, \n",
    "                                       batch_size=BATCH_SIZE, \n",
    "                                       learning_rate=LEARNING_RATE, \n",
    "                                       gamma=GAMMA, \n",
    "                                       epsilon_i=EPSILON_INI, \n",
    "                                       epsilon_f=EPSILON_MIN, \n",
    "                                       epsilon_anneal_steps=EPSILON_ANNEAL_STEPS, \n",
    "                                       episode_block = EPISODE_BLOCK, \n",
    "                                       device=DEVICE)\n",
    "\n",
    "prioritised_ddqn_rewards = prioritised_ddqn_agent.train(EPISODES, STEPS_PER_EPISODE, TOTAL_STEPS)\n",
    "\n",
    "env.close()"
   ]
  },
  {
   "cell_type": "markdown",
   "metadata": {
    "id": "YNNvsKiEt9I_"
   },
   "source": [
    "# Comparaciones, Resultados, Comentarios...\n",
    "De aquí en adelante son libres de presentar como gusten los resultados comparativos de las técnicas.\n",
    "..."
   ]
  }
 ],
 "metadata": {
  "accelerator": "GPU",
  "colab": {
   "provenance": []
  },
  "kernelspec": {
   "display_name": "obl_taller_ia",
   "language": "python",
   "name": "python3"
  },
  "language_info": {
   "codemirror_mode": {
    "name": "ipython",
    "version": 3
   },
   "file_extension": ".py",
   "mimetype": "text/x-python",
   "name": "python",
   "nbconvert_exporter": "python",
   "pygments_lexer": "ipython3",
   "version": "3.12.10"
  }
 },
 "nbformat": 4,
 "nbformat_minor": 1
}
